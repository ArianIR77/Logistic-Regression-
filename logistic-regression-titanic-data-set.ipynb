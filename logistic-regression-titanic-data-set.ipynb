{
 "cells": [
  {
   "cell_type": "code",
   "execution_count": 1,
   "id": "f51e1a11",
   "metadata": {
    "_cell_guid": "b1076dfc-b9ad-4769-8c92-a6c4dae69d19",
    "_uuid": "8f2839f25d086af736a60e9eeb907d3b93b6e0e5",
    "execution": {
     "iopub.execute_input": "2022-07-18T18:15:16.140142Z",
     "iopub.status.busy": "2022-07-18T18:15:16.139134Z",
     "iopub.status.idle": "2022-07-18T18:15:16.174917Z",
     "shell.execute_reply": "2022-07-18T18:15:16.173688Z"
    },
    "papermill": {
     "duration": 0.053287,
     "end_time": "2022-07-18T18:15:16.177660",
     "exception": false,
     "start_time": "2022-07-18T18:15:16.124373",
     "status": "completed"
    },
    "tags": []
   },
   "outputs": [
    {
     "name": "stdout",
     "output_type": "stream",
     "text": [
      "/kaggle/input/ariantitanic/titanic_train.csv\n",
      "/kaggle/input/tdddddd/titanic_test.csv\n"
     ]
    }
   ],
   "source": [
    "# This Python 3 environment comes with many helpful analytics libraries installed\n",
    "# It is defined by the kaggle/python Docker image: https://github.com/kaggle/docker-python\n",
    "# For example, here's several helpful packages to load\n",
    "\n",
    "import numpy as np # linear algebra\n",
    "import pandas as pd # data processing, CSV file I/O (e.g. pd.read_csv)\n",
    "\n",
    "# Input data files are available in the read-only \"../input/\" directory\n",
    "# For example, running this (by clicking run or pressing Shift+Enter) will list all files under the input directory\n",
    "\n",
    "import os\n",
    "for dirname, _, filenames in os.walk('/kaggle/input'):\n",
    "    for filename in filenames:\n",
    "        print(os.path.join(dirname, filename))\n",
    "\n",
    "# You can write up to 20GB to the current directory (/kaggle/working/) that gets preserved as output when you create a version using \"Save & Run All\" \n",
    "# You can also write temporary files to /kaggle/temp/, but they won't be saved outside of the current session"
   ]
  },
  {
   "cell_type": "code",
   "execution_count": 2,
   "id": "6a7fa6ba",
   "metadata": {
    "execution": {
     "iopub.execute_input": "2022-07-18T18:15:16.201897Z",
     "iopub.status.busy": "2022-07-18T18:15:16.201092Z",
     "iopub.status.idle": "2022-07-18T18:15:17.327152Z",
     "shell.execute_reply": "2022-07-18T18:15:17.326223Z"
    },
    "papermill": {
     "duration": 1.141094,
     "end_time": "2022-07-18T18:15:17.329848",
     "exception": false,
     "start_time": "2022-07-18T18:15:16.188754",
     "status": "completed"
    },
    "tags": []
   },
   "outputs": [],
   "source": [
    "import numpy as np\n",
    "import pandas as pd\n",
    "import matplotlib.pyplot as plt\n",
    "import seaborn as sns\n",
    "sns.set_style('whitegrid')\n",
    "%matplotlib inline"
   ]
  },
  {
   "cell_type": "code",
   "execution_count": 3,
   "id": "23cf648d",
   "metadata": {
    "execution": {
     "iopub.execute_input": "2022-07-18T18:15:17.354406Z",
     "iopub.status.busy": "2022-07-18T18:15:17.353403Z",
     "iopub.status.idle": "2022-07-18T18:15:17.374295Z",
     "shell.execute_reply": "2022-07-18T18:15:17.373396Z"
    },
    "papermill": {
     "duration": 0.036124,
     "end_time": "2022-07-18T18:15:17.376986",
     "exception": false,
     "start_time": "2022-07-18T18:15:17.340862",
     "status": "completed"
    },
    "tags": []
   },
   "outputs": [],
   "source": [
    "train = pd.read_csv('../input/ariantitanic/titanic_train.csv')"
   ]
  },
  {
   "cell_type": "code",
   "execution_count": 4,
   "id": "eae227f5",
   "metadata": {
    "execution": {
     "iopub.execute_input": "2022-07-18T18:15:17.401101Z",
     "iopub.status.busy": "2022-07-18T18:15:17.400305Z",
     "iopub.status.idle": "2022-07-18T18:15:17.425340Z",
     "shell.execute_reply": "2022-07-18T18:15:17.424213Z"
    },
    "papermill": {
     "duration": 0.04002,
     "end_time": "2022-07-18T18:15:17.428242",
     "exception": false,
     "start_time": "2022-07-18T18:15:17.388222",
     "status": "completed"
    },
    "tags": []
   },
   "outputs": [
    {
     "data": {
      "text/html": [
       "<div>\n",
       "<style scoped>\n",
       "    .dataframe tbody tr th:only-of-type {\n",
       "        vertical-align: middle;\n",
       "    }\n",
       "\n",
       "    .dataframe tbody tr th {\n",
       "        vertical-align: top;\n",
       "    }\n",
       "\n",
       "    .dataframe thead th {\n",
       "        text-align: right;\n",
       "    }\n",
       "</style>\n",
       "<table border=\"1\" class=\"dataframe\">\n",
       "  <thead>\n",
       "    <tr style=\"text-align: right;\">\n",
       "      <th></th>\n",
       "      <th>PassengerId</th>\n",
       "      <th>Survived</th>\n",
       "      <th>Pclass</th>\n",
       "      <th>Name</th>\n",
       "      <th>Sex</th>\n",
       "      <th>Age</th>\n",
       "      <th>SibSp</th>\n",
       "      <th>Parch</th>\n",
       "      <th>Ticket</th>\n",
       "      <th>Fare</th>\n",
       "      <th>Cabin</th>\n",
       "      <th>Embarked</th>\n",
       "    </tr>\n",
       "  </thead>\n",
       "  <tbody>\n",
       "    <tr>\n",
       "      <th>0</th>\n",
       "      <td>1</td>\n",
       "      <td>0</td>\n",
       "      <td>3</td>\n",
       "      <td>Braund, Mr. Owen Harris</td>\n",
       "      <td>male</td>\n",
       "      <td>22.0</td>\n",
       "      <td>1</td>\n",
       "      <td>0</td>\n",
       "      <td>A/5 21171</td>\n",
       "      <td>7.2500</td>\n",
       "      <td>NaN</td>\n",
       "      <td>S</td>\n",
       "    </tr>\n",
       "    <tr>\n",
       "      <th>1</th>\n",
       "      <td>2</td>\n",
       "      <td>1</td>\n",
       "      <td>1</td>\n",
       "      <td>Cumings, Mrs. John Bradley (Florence Briggs Th...</td>\n",
       "      <td>female</td>\n",
       "      <td>38.0</td>\n",
       "      <td>1</td>\n",
       "      <td>0</td>\n",
       "      <td>PC 17599</td>\n",
       "      <td>71.2833</td>\n",
       "      <td>C85</td>\n",
       "      <td>C</td>\n",
       "    </tr>\n",
       "  </tbody>\n",
       "</table>\n",
       "</div>"
      ],
      "text/plain": [
       "   PassengerId  Survived  Pclass  \\\n",
       "0            1         0       3   \n",
       "1            2         1       1   \n",
       "\n",
       "                                                Name     Sex   Age  SibSp  \\\n",
       "0                            Braund, Mr. Owen Harris    male  22.0      1   \n",
       "1  Cumings, Mrs. John Bradley (Florence Briggs Th...  female  38.0      1   \n",
       "\n",
       "   Parch     Ticket     Fare Cabin Embarked  \n",
       "0      0  A/5 21171   7.2500   NaN        S  \n",
       "1      0   PC 17599  71.2833   C85        C  "
      ]
     },
     "execution_count": 4,
     "metadata": {},
     "output_type": "execute_result"
    }
   ],
   "source": [
    "train.head(2)"
   ]
  },
  {
   "cell_type": "code",
   "execution_count": 5,
   "id": "210ecb53",
   "metadata": {
    "execution": {
     "iopub.execute_input": "2022-07-18T18:15:17.454199Z",
     "iopub.status.busy": "2022-07-18T18:15:17.453373Z",
     "iopub.status.idle": "2022-07-18T18:15:17.463737Z",
     "shell.execute_reply": "2022-07-18T18:15:17.462673Z"
    },
    "papermill": {
     "duration": 0.026327,
     "end_time": "2022-07-18T18:15:17.466108",
     "exception": false,
     "start_time": "2022-07-18T18:15:17.439781",
     "status": "completed"
    },
    "tags": []
   },
   "outputs": [
    {
     "data": {
      "text/plain": [
       "PassengerId      0\n",
       "Survived         0\n",
       "Pclass           0\n",
       "Name             0\n",
       "Sex              0\n",
       "Age            177\n",
       "SibSp            0\n",
       "Parch            0\n",
       "Ticket           0\n",
       "Fare             0\n",
       "Cabin          687\n",
       "Embarked         2\n",
       "dtype: int64"
      ]
     },
     "execution_count": 5,
     "metadata": {},
     "output_type": "execute_result"
    }
   ],
   "source": [
    "train.isnull().sum()"
   ]
  },
  {
   "cell_type": "code",
   "execution_count": 6,
   "id": "ab45a99e",
   "metadata": {
    "execution": {
     "iopub.execute_input": "2022-07-18T18:15:17.491230Z",
     "iopub.status.busy": "2022-07-18T18:15:17.490458Z",
     "iopub.status.idle": "2022-07-18T18:15:17.516841Z",
     "shell.execute_reply": "2022-07-18T18:15:17.515661Z"
    },
    "papermill": {
     "duration": 0.042147,
     "end_time": "2022-07-18T18:15:17.519487",
     "exception": false,
     "start_time": "2022-07-18T18:15:17.477340",
     "status": "completed"
    },
    "tags": []
   },
   "outputs": [
    {
     "name": "stdout",
     "output_type": "stream",
     "text": [
      "<class 'pandas.core.frame.DataFrame'>\n",
      "RangeIndex: 891 entries, 0 to 890\n",
      "Data columns (total 12 columns):\n",
      " #   Column       Non-Null Count  Dtype  \n",
      "---  ------       --------------  -----  \n",
      " 0   PassengerId  891 non-null    int64  \n",
      " 1   Survived     891 non-null    int64  \n",
      " 2   Pclass       891 non-null    int64  \n",
      " 3   Name         891 non-null    object \n",
      " 4   Sex          891 non-null    object \n",
      " 5   Age          714 non-null    float64\n",
      " 6   SibSp        891 non-null    int64  \n",
      " 7   Parch        891 non-null    int64  \n",
      " 8   Ticket       891 non-null    object \n",
      " 9   Fare         891 non-null    float64\n",
      " 10  Cabin        204 non-null    object \n",
      " 11  Embarked     889 non-null    object \n",
      "dtypes: float64(2), int64(5), object(5)\n",
      "memory usage: 83.7+ KB\n"
     ]
    }
   ],
   "source": [
    "train.info()"
   ]
  },
  {
   "cell_type": "code",
   "execution_count": 7,
   "id": "5c6b4dd4",
   "metadata": {
    "execution": {
     "iopub.execute_input": "2022-07-18T18:15:17.544994Z",
     "iopub.status.busy": "2022-07-18T18:15:17.544189Z",
     "iopub.status.idle": "2022-07-18T18:15:17.556796Z",
     "shell.execute_reply": "2022-07-18T18:15:17.555430Z"
    },
    "papermill": {
     "duration": 0.028094,
     "end_time": "2022-07-18T18:15:17.559316",
     "exception": false,
     "start_time": "2022-07-18T18:15:17.531222",
     "status": "completed"
    },
    "tags": []
   },
   "outputs": [
    {
     "data": {
      "text/plain": [
       "PassengerId     0.000000\n",
       "Survived        0.000000\n",
       "Pclass          0.000000\n",
       "Name            0.000000\n",
       "Sex             0.000000\n",
       "Age            19.865320\n",
       "SibSp           0.000000\n",
       "Parch           0.000000\n",
       "Ticket          0.000000\n",
       "Fare            0.000000\n",
       "Cabin          77.104377\n",
       "Embarked        0.224467\n",
       "dtype: float64"
      ]
     },
     "execution_count": 7,
     "metadata": {},
     "output_type": "execute_result"
    }
   ],
   "source": [
    "(train.isnull().sum()/len(train))*100"
   ]
  },
  {
   "cell_type": "code",
   "execution_count": 8,
   "id": "8841a48c",
   "metadata": {
    "execution": {
     "iopub.execute_input": "2022-07-18T18:15:17.584731Z",
     "iopub.status.busy": "2022-07-18T18:15:17.583953Z",
     "iopub.status.idle": "2022-07-18T18:15:17.857590Z",
     "shell.execute_reply": "2022-07-18T18:15:17.856408Z"
    },
    "papermill": {
     "duration": 0.28907,
     "end_time": "2022-07-18T18:15:17.860043",
     "exception": false,
     "start_time": "2022-07-18T18:15:17.570973",
     "status": "completed"
    },
    "tags": []
   },
   "outputs": [
    {
     "data": {
      "text/plain": [
       "<AxesSubplot:>"
      ]
     },
     "execution_count": 8,
     "metadata": {},
     "output_type": "execute_result"
    },
    {
     "data": {
      "image/png": "[encoded data removed]",
      "text/plain": [
       "<Figure size 432x288 with 1 Axes>"
      ]
     },
     "metadata": {
      "needs_background": "light"
     },
     "output_type": "display_data"
    }
   ],
   "source": [
    "sns.heatmap(train.isnull(),yticklabels=False,cbar=False,cmap='viridis')"
   ]
  },
  {
   "cell_type": "code",
   "execution_count": 9,
   "id": "bffed89a",
   "metadata": {
    "execution": {
     "iopub.execute_input": "2022-07-18T18:15:17.885223Z",
     "iopub.status.busy": "2022-07-18T18:15:17.884580Z",
     "iopub.status.idle": "2022-07-18T18:15:18.010091Z",
     "shell.execute_reply": "2022-07-18T18:15:18.008865Z"
    },
    "papermill": {
     "duration": 0.141479,
     "end_time": "2022-07-18T18:15:18.013059",
     "exception": false,
     "start_time": "2022-07-18T18:15:17.871580",
     "status": "completed"
    },
    "tags": []
   },
   "outputs": [
    {
     "data": {
      "text/plain": [
       "<AxesSubplot:xlabel='Survived', ylabel='count'>"
      ]
     },
     "execution_count": 9,
     "metadata": {},
     "output_type": "execute_result"
    },
    {
     "data": {
      "image/png": "[encoded data removed]",
      "text/plain": [
       "<Figure size 432x288 with 1 Axes>"
      ]
     },
     "metadata": {
      "needs_background": "light"
     },
     "output_type": "display_data"
    }
   ],
   "source": [
    "sns.countplot(x='Survived', data=train)"
   ]
  },
  {
   "cell_type": "code",
   "execution_count": 10,
   "id": "8d1d5807",
   "metadata": {
    "execution": {
     "iopub.execute_input": "2022-07-18T18:15:18.043400Z",
     "iopub.status.busy": "2022-07-18T18:15:18.042733Z",
     "iopub.status.idle": "2022-07-18T18:15:18.186854Z",
     "shell.execute_reply": "2022-07-18T18:15:18.185649Z"
    },
    "papermill": {
     "duration": 0.162119,
     "end_time": "2022-07-18T18:15:18.189374",
     "exception": false,
     "start_time": "2022-07-18T18:15:18.027255",
     "status": "completed"
    },
    "tags": []
   },
   "outputs": [
    {
     "data": {
      "text/plain": [
       "<AxesSubplot:xlabel='Survived', ylabel='count'>"
      ]
     },
     "execution_count": 10,
     "metadata": {},
     "output_type": "execute_result"
    },
    {
     "data": {
      "image/png": "[encoded data removed]",
      "text/plain": [
       "<Figure size 432x288 with 1 Axes>"
      ]
     },
     "metadata": {
      "needs_background": "light"
     },
     "output_type": "display_data"
    }
   ],
   "source": [
    "sns.countplot(x='Survived',hue='Sex', data=train)"
   ]
  },
  {
   "cell_type": "code",
   "execution_count": 11,
   "id": "2c8abce6",
   "metadata": {
    "execution": {
     "iopub.execute_input": "2022-07-18T18:15:18.216515Z",
     "iopub.status.busy": "2022-07-18T18:15:18.215799Z",
     "iopub.status.idle": "2022-07-18T18:15:18.382212Z",
     "shell.execute_reply": "2022-07-18T18:15:18.381323Z"
    },
    "papermill": {
     "duration": 0.182633,
     "end_time": "2022-07-18T18:15:18.384510",
     "exception": false,
     "start_time": "2022-07-18T18:15:18.201877",
     "status": "completed"
    },
    "tags": []
   },
   "outputs": [
    {
     "data": {
      "text/plain": [
       "<AxesSubplot:xlabel='Survived', ylabel='count'>"
      ]
     },
     "execution_count": 11,
     "metadata": {},
     "output_type": "execute_result"
    },
    {
     "data": {
      "image/png": "[encoded data removed]",
      "text/plain": [
       "<Figure size 432x288 with 1 Axes>"
      ]
     },
     "metadata": {
      "needs_background": "light"
     },
     "output_type": "display_data"
    }
   ],
   "source": [
    "sns.countplot(x='Survived',hue='Pclass', data=train)"
   ]
  },
  {
   "cell_type": "code",
   "execution_count": 12,
   "id": "849af6c1",
   "metadata": {
    "execution": {
     "iopub.execute_input": "2022-07-18T18:15:18.412465Z",
     "iopub.status.busy": "2022-07-18T18:15:18.411293Z",
     "iopub.status.idle": "2022-07-18T18:15:18.420317Z",
     "shell.execute_reply": "2022-07-18T18:15:18.418992Z"
    },
    "papermill": {
     "duration": 0.025726,
     "end_time": "2022-07-18T18:15:18.422979",
     "exception": false,
     "start_time": "2022-07-18T18:15:18.397253",
     "status": "completed"
    },
    "tags": []
   },
   "outputs": [
    {
     "data": {
      "text/plain": [
       "Pclass\n",
       "3    491\n",
       "1    216\n",
       "2    184\n",
       "dtype: int64"
      ]
     },
     "execution_count": 12,
     "metadata": {},
     "output_type": "execute_result"
    }
   ],
   "source": [
    "train.value_counts('Pclass')"
   ]
  },
  {
   "cell_type": "code",
   "execution_count": 13,
   "id": "6beebab7",
   "metadata": {
    "execution": {
     "iopub.execute_input": "2022-07-18T18:15:18.451451Z",
     "iopub.status.busy": "2022-07-18T18:15:18.450659Z",
     "iopub.status.idle": "2022-07-18T18:15:18.465296Z",
     "shell.execute_reply": "2022-07-18T18:15:18.464131Z"
    },
    "papermill": {
     "duration": 0.031751,
     "end_time": "2022-07-18T18:15:18.467991",
     "exception": false,
     "start_time": "2022-07-18T18:15:18.436240",
     "status": "completed"
    },
    "tags": []
   },
   "outputs": [
    {
     "data": {
      "text/plain": [
       "Pclass\n",
       "1    0.629630\n",
       "2    0.472826\n",
       "3    0.242363\n",
       "Name: Survived, dtype: float64"
      ]
     },
     "execution_count": 13,
     "metadata": {},
     "output_type": "execute_result"
    }
   ],
   "source": [
    "train.groupby('Pclass').mean()['Survived']"
   ]
  },
  {
   "cell_type": "code",
   "execution_count": 14,
   "id": "3536c204",
   "metadata": {
    "execution": {
     "iopub.execute_input": "2022-07-18T18:15:18.497909Z",
     "iopub.status.busy": "2022-07-18T18:15:18.496639Z",
     "iopub.status.idle": "2022-07-18T18:15:18.861281Z",
     "shell.execute_reply": "2022-07-18T18:15:18.860459Z"
    },
    "papermill": {
     "duration": 0.381841,
     "end_time": "2022-07-18T18:15:18.863783",
     "exception": false,
     "start_time": "2022-07-18T18:15:18.481942",
     "status": "completed"
    },
    "tags": []
   },
   "outputs": [
    {
     "data": {
      "text/plain": [
       "<seaborn.axisgrid.FacetGrid at 0x7fa6b51c3190>"
      ]
     },
     "execution_count": 14,
     "metadata": {},
     "output_type": "execute_result"
    },
    {
     "data": {
      "image/png": "[encoded data removed]",
      "text/plain": [
       "<Figure size 360x360 with 1 Axes>"
      ]
     },
     "metadata": {
      "needs_background": "light"
     },
     "output_type": "display_data"
    }
   ],
   "source": [
    "sns.displot(x='Age', data=train)"
   ]
  },
  {
   "cell_type": "code",
   "execution_count": 15,
   "id": "e98c2f65",
   "metadata": {
    "execution": {
     "iopub.execute_input": "2022-07-18T18:15:18.893330Z",
     "iopub.status.busy": "2022-07-18T18:15:18.892628Z",
     "iopub.status.idle": "2022-07-18T18:15:19.089010Z",
     "shell.execute_reply": "2022-07-18T18:15:19.087833Z"
    },
    "papermill": {
     "duration": 0.214402,
     "end_time": "2022-07-18T18:15:19.091494",
     "exception": false,
     "start_time": "2022-07-18T18:15:18.877092",
     "status": "completed"
    },
    "tags": []
   },
   "outputs": [
    {
     "data": {
      "text/plain": [
       "<AxesSubplot:xlabel='Pclass', ylabel='Age'>"
      ]
     },
     "execution_count": 15,
     "metadata": {},
     "output_type": "execute_result"
    },
    {
     "data": {
      "image/png": "[encoded data removed]",
      "text/plain": [
       "<Figure size 792x576 with 1 Axes>"
      ]
     },
     "metadata": {},
     "output_type": "display_data"
    }
   ],
   "source": [
    "\n",
    "sns.set(rc={'figure.figsize':(11,8)})\n",
    "sns.boxplot(x='Pclass',y='Age',data=train,palette='winter')\n"
   ]
  },
  {
   "cell_type": "code",
   "execution_count": 16,
   "id": "9c342410",
   "metadata": {
    "execution": {
     "iopub.execute_input": "2022-07-18T18:15:19.121138Z",
     "iopub.status.busy": "2022-07-18T18:15:19.120391Z",
     "iopub.status.idle": "2022-07-18T18:15:19.127739Z",
     "shell.execute_reply": "2022-07-18T18:15:19.126660Z"
    },
    "papermill": {
     "duration": 0.025187,
     "end_time": "2022-07-18T18:15:19.130392",
     "exception": false,
     "start_time": "2022-07-18T18:15:19.105205",
     "status": "completed"
    },
    "tags": []
   },
   "outputs": [
    {
     "data": {
      "text/plain": [
       "Index(['PassengerId', 'Survived', 'Pclass', 'Name', 'Sex', 'Age', 'SibSp',\n",
       "       'Parch', 'Ticket', 'Fare', 'Cabin', 'Embarked'],\n",
       "      dtype='object')"
      ]
     },
     "execution_count": 16,
     "metadata": {},
     "output_type": "execute_result"
    }
   ],
   "source": [
    "train.columns"
   ]
  },
  {
   "cell_type": "code",
   "execution_count": 17,
   "id": "ed6e5bf3",
   "metadata": {
    "execution": {
     "iopub.execute_input": "2022-07-18T18:15:19.160525Z",
     "iopub.status.busy": "2022-07-18T18:15:19.159781Z",
     "iopub.status.idle": "2022-07-18T18:15:19.167941Z",
     "shell.execute_reply": "2022-07-18T18:15:19.167053Z"
    },
    "papermill": {
     "duration": 0.025956,
     "end_time": "2022-07-18T18:15:19.170086",
     "exception": false,
     "start_time": "2022-07-18T18:15:19.144130",
     "status": "completed"
    },
    "tags": []
   },
   "outputs": [
    {
     "data": {
      "text/plain": [
       "PassengerId    0.036847\n",
       "Survived      -0.077221\n",
       "Pclass        -0.369226\n",
       "Age            1.000000\n",
       "SibSp         -0.308247\n",
       "Parch         -0.189119\n",
       "Fare           0.096067\n",
       "Name: Age, dtype: float64"
      ]
     },
     "execution_count": 17,
     "metadata": {},
     "output_type": "execute_result"
    }
   ],
   "source": [
    "train.corr()['Age']"
   ]
  },
  {
   "cell_type": "code",
   "execution_count": 18,
   "id": "df80d20d",
   "metadata": {
    "execution": {
     "iopub.execute_input": "2022-07-18T18:15:19.200311Z",
     "iopub.status.busy": "2022-07-18T18:15:19.199626Z",
     "iopub.status.idle": "2022-07-18T18:15:19.205377Z",
     "shell.execute_reply": "2022-07-18T18:15:19.204598Z"
    },
    "papermill": {
     "duration": 0.023615,
     "end_time": "2022-07-18T18:15:19.207683",
     "exception": false,
     "start_time": "2022-07-18T18:15:19.184068",
     "status": "completed"
    },
    "tags": []
   },
   "outputs": [],
   "source": [
    "def age_fill(x):\n",
    "    Age=x[0]\n",
    "    Pclass=x[1]\n",
    "    if pd.isnull(Age):\n",
    "        if Pclass==1:\n",
    "            return 37\n",
    "        if Pclass==2:\n",
    "            return 29\n",
    "        else:\n",
    "            return 24\n",
    "    else:\n",
    "        return Age"
   ]
  },
  {
   "cell_type": "code",
   "execution_count": 19,
   "id": "5c6162cf",
   "metadata": {
    "execution": {
     "iopub.execute_input": "2022-07-18T18:15:19.237630Z",
     "iopub.status.busy": "2022-07-18T18:15:19.237240Z",
     "iopub.status.idle": "2022-07-18T18:15:19.257479Z",
     "shell.execute_reply": "2022-07-18T18:15:19.256653Z"
    },
    "papermill": {
     "duration": 0.038198,
     "end_time": "2022-07-18T18:15:19.259953",
     "exception": false,
     "start_time": "2022-07-18T18:15:19.221755",
     "status": "completed"
    },
    "tags": []
   },
   "outputs": [],
   "source": [
    "train['Age']=train[['Age','Pclass']].apply(age_fill, axis=1)"
   ]
  },
  {
   "cell_type": "code",
   "execution_count": 20,
   "id": "23c0d551",
   "metadata": {
    "execution": {
     "iopub.execute_input": "2022-07-18T18:15:19.290221Z",
     "iopub.status.busy": "2022-07-18T18:15:19.289556Z",
     "iopub.status.idle": "2022-07-18T18:15:19.298220Z",
     "shell.execute_reply": "2022-07-18T18:15:19.297316Z"
    },
    "papermill": {
     "duration": 0.02641,
     "end_time": "2022-07-18T18:15:19.300370",
     "exception": false,
     "start_time": "2022-07-18T18:15:19.273960",
     "status": "completed"
    },
    "tags": []
   },
   "outputs": [
    {
     "data": {
      "text/plain": [
       "PassengerId      0\n",
       "Survived         0\n",
       "Pclass           0\n",
       "Name             0\n",
       "Sex              0\n",
       "Age              0\n",
       "SibSp            0\n",
       "Parch            0\n",
       "Ticket           0\n",
       "Fare             0\n",
       "Cabin          687\n",
       "Embarked         2\n",
       "dtype: int64"
      ]
     },
     "execution_count": 20,
     "metadata": {},
     "output_type": "execute_result"
    }
   ],
   "source": [
    "train.isnull().sum()"
   ]
  },
  {
   "cell_type": "code",
   "execution_count": 21,
   "id": "82757b5c",
   "metadata": {
    "execution": {
     "iopub.execute_input": "2022-07-18T18:15:19.331572Z",
     "iopub.status.busy": "2022-07-18T18:15:19.331157Z",
     "iopub.status.idle": "2022-07-18T18:15:19.337185Z",
     "shell.execute_reply": "2022-07-18T18:15:19.336041Z"
    },
    "papermill": {
     "duration": 0.024408,
     "end_time": "2022-07-18T18:15:19.339565",
     "exception": false,
     "start_time": "2022-07-18T18:15:19.315157",
     "status": "completed"
    },
    "tags": []
   },
   "outputs": [],
   "source": [
    "train.drop('Cabin',axis=1,inplace=True)"
   ]
  },
  {
   "cell_type": "code",
   "execution_count": 22,
   "id": "909f25a2",
   "metadata": {
    "execution": {
     "iopub.execute_input": "2022-07-18T18:15:19.369447Z",
     "iopub.status.busy": "2022-07-18T18:15:19.369029Z",
     "iopub.status.idle": "2022-07-18T18:15:19.590282Z",
     "shell.execute_reply": "2022-07-18T18:15:19.589186Z"
    },
    "papermill": {
     "duration": 0.239353,
     "end_time": "2022-07-18T18:15:19.592973",
     "exception": false,
     "start_time": "2022-07-18T18:15:19.353620",
     "status": "completed"
    },
    "tags": []
   },
   "outputs": [
    {
     "data": {
      "text/plain": [
       "<AxesSubplot:>"
      ]
     },
     "execution_count": 22,
     "metadata": {},
     "output_type": "execute_result"
    },
    {
     "data": {
      "image/png": "[encoded data removed]",
      "text/plain": [
       "<Figure size 792x576 with 1 Axes>"
      ]
     },
     "metadata": {},
     "output_type": "display_data"
    }
   ],
   "source": [
    "sns.heatmap(train.isnull(),yticklabels=False,cbar=False,cmap='viridis')"
   ]
  },
  {
   "cell_type": "code",
   "execution_count": 23,
   "id": "8fcf66fd",
   "metadata": {
    "execution": {
     "iopub.execute_input": "2022-07-18T18:15:19.624564Z",
     "iopub.status.busy": "2022-07-18T18:15:19.623736Z",
     "iopub.status.idle": "2022-07-18T18:15:19.639743Z",
     "shell.execute_reply": "2022-07-18T18:15:19.638300Z"
    },
    "papermill": {
     "duration": 0.034395,
     "end_time": "2022-07-18T18:15:19.642328",
     "exception": false,
     "start_time": "2022-07-18T18:15:19.607933",
     "status": "completed"
    },
    "tags": []
   },
   "outputs": [
    {
     "name": "stdout",
     "output_type": "stream",
     "text": [
      "<class 'pandas.core.frame.DataFrame'>\n",
      "RangeIndex: 891 entries, 0 to 890\n",
      "Data columns (total 11 columns):\n",
      " #   Column       Non-Null Count  Dtype  \n",
      "---  ------       --------------  -----  \n",
      " 0   PassengerId  891 non-null    int64  \n",
      " 1   Survived     891 non-null    int64  \n",
      " 2   Pclass       891 non-null    int64  \n",
      " 3   Name         891 non-null    object \n",
      " 4   Sex          891 non-null    object \n",
      " 5   Age          891 non-null    float64\n",
      " 6   SibSp        891 non-null    int64  \n",
      " 7   Parch        891 non-null    int64  \n",
      " 8   Ticket       891 non-null    object \n",
      " 9   Fare         891 non-null    float64\n",
      " 10  Embarked     889 non-null    object \n",
      "dtypes: float64(2), int64(5), object(4)\n",
      "memory usage: 76.7+ KB\n"
     ]
    }
   ],
   "source": [
    "train.info()"
   ]
  },
  {
   "cell_type": "code",
   "execution_count": 24,
   "id": "fb02ed55",
   "metadata": {
    "execution": {
     "iopub.execute_input": "2022-07-18T18:15:19.674037Z",
     "iopub.status.busy": "2022-07-18T18:15:19.672925Z",
     "iopub.status.idle": "2022-07-18T18:15:19.682210Z",
     "shell.execute_reply": "2022-07-18T18:15:19.681386Z"
    },
    "papermill": {
     "duration": 0.027091,
     "end_time": "2022-07-18T18:15:19.684219",
     "exception": false,
     "start_time": "2022-07-18T18:15:19.657128",
     "status": "completed"
    },
    "tags": []
   },
   "outputs": [],
   "source": [
    "sex = pd.get_dummies(train[['Sex','Embarked']], drop_first=True)\n"
   ]
  },
  {
   "cell_type": "code",
   "execution_count": 25,
   "id": "b5698741",
   "metadata": {
    "execution": {
     "iopub.execute_input": "2022-07-18T18:15:19.716453Z",
     "iopub.status.busy": "2022-07-18T18:15:19.715656Z",
     "iopub.status.idle": "2022-07-18T18:15:19.722513Z",
     "shell.execute_reply": "2022-07-18T18:15:19.721662Z"
    },
    "papermill": {
     "duration": 0.025943,
     "end_time": "2022-07-18T18:15:19.724834",
     "exception": false,
     "start_time": "2022-07-18T18:15:19.698891",
     "status": "completed"
    },
    "tags": []
   },
   "outputs": [],
   "source": [
    "train = pd.concat([train,sex], axis=1)"
   ]
  },
  {
   "cell_type": "code",
   "execution_count": 26,
   "id": "9e135e32",
   "metadata": {
    "execution": {
     "iopub.execute_input": "2022-07-18T18:15:19.756238Z",
     "iopub.status.busy": "2022-07-18T18:15:19.755548Z",
     "iopub.status.idle": "2022-07-18T18:15:19.772561Z",
     "shell.execute_reply": "2022-07-18T18:15:19.771278Z"
    },
    "papermill": {
     "duration": 0.035611,
     "end_time": "2022-07-18T18:15:19.775175",
     "exception": false,
     "start_time": "2022-07-18T18:15:19.739564",
     "status": "completed"
    },
    "tags": []
   },
   "outputs": [
    {
     "data": {
      "text/html": [
       "<div>\n",
       "<style scoped>\n",
       "    .dataframe tbody tr th:only-of-type {\n",
       "        vertical-align: middle;\n",
       "    }\n",
       "\n",
       "    .dataframe tbody tr th {\n",
       "        vertical-align: top;\n",
       "    }\n",
       "\n",
       "    .dataframe thead th {\n",
       "        text-align: right;\n",
       "    }\n",
       "</style>\n",
       "<table border=\"1\" class=\"dataframe\">\n",
       "  <thead>\n",
       "    <tr style=\"text-align: right;\">\n",
       "      <th></th>\n",
       "      <th>PassengerId</th>\n",
       "      <th>Survived</th>\n",
       "      <th>Pclass</th>\n",
       "      <th>Name</th>\n",
       "      <th>Sex</th>\n",
       "      <th>Age</th>\n",
       "      <th>SibSp</th>\n",
       "      <th>Parch</th>\n",
       "      <th>Ticket</th>\n",
       "      <th>Fare</th>\n",
       "      <th>Embarked</th>\n",
       "      <th>Sex_male</th>\n",
       "      <th>Embarked_Q</th>\n",
       "      <th>Embarked_S</th>\n",
       "    </tr>\n",
       "  </thead>\n",
       "  <tbody>\n",
       "    <tr>\n",
       "      <th>0</th>\n",
       "      <td>1</td>\n",
       "      <td>0</td>\n",
       "      <td>3</td>\n",
       "      <td>Braund, Mr. Owen Harris</td>\n",
       "      <td>male</td>\n",
       "      <td>22.0</td>\n",
       "      <td>1</td>\n",
       "      <td>0</td>\n",
       "      <td>A/5 21171</td>\n",
       "      <td>7.2500</td>\n",
       "      <td>S</td>\n",
       "      <td>1</td>\n",
       "      <td>0</td>\n",
       "      <td>1</td>\n",
       "    </tr>\n",
       "    <tr>\n",
       "      <th>1</th>\n",
       "      <td>2</td>\n",
       "      <td>1</td>\n",
       "      <td>1</td>\n",
       "      <td>Cumings, Mrs. John Bradley (Florence Briggs Th...</td>\n",
       "      <td>female</td>\n",
       "      <td>38.0</td>\n",
       "      <td>1</td>\n",
       "      <td>0</td>\n",
       "      <td>PC 17599</td>\n",
       "      <td>71.2833</td>\n",
       "      <td>C</td>\n",
       "      <td>0</td>\n",
       "      <td>0</td>\n",
       "      <td>0</td>\n",
       "    </tr>\n",
       "    <tr>\n",
       "      <th>2</th>\n",
       "      <td>3</td>\n",
       "      <td>1</td>\n",
       "      <td>3</td>\n",
       "      <td>Heikkinen, Miss. Laina</td>\n",
       "      <td>female</td>\n",
       "      <td>26.0</td>\n",
       "      <td>0</td>\n",
       "      <td>0</td>\n",
       "      <td>STON/O2. 3101282</td>\n",
       "      <td>7.9250</td>\n",
       "      <td>S</td>\n",
       "      <td>0</td>\n",
       "      <td>0</td>\n",
       "      <td>1</td>\n",
       "    </tr>\n",
       "    <tr>\n",
       "      <th>3</th>\n",
       "      <td>4</td>\n",
       "      <td>1</td>\n",
       "      <td>1</td>\n",
       "      <td>Futrelle, Mrs. Jacques Heath (Lily May Peel)</td>\n",
       "      <td>female</td>\n",
       "      <td>35.0</td>\n",
       "      <td>1</td>\n",
       "      <td>0</td>\n",
       "      <td>113803</td>\n",
       "      <td>53.1000</td>\n",
       "      <td>S</td>\n",
       "      <td>0</td>\n",
       "      <td>0</td>\n",
       "      <td>1</td>\n",
       "    </tr>\n",
       "    <tr>\n",
       "      <th>4</th>\n",
       "      <td>5</td>\n",
       "      <td>0</td>\n",
       "      <td>3</td>\n",
       "      <td>Allen, Mr. William Henry</td>\n",
       "      <td>male</td>\n",
       "      <td>35.0</td>\n",
       "      <td>0</td>\n",
       "      <td>0</td>\n",
       "      <td>373450</td>\n",
       "      <td>8.0500</td>\n",
       "      <td>S</td>\n",
       "      <td>1</td>\n",
       "      <td>0</td>\n",
       "      <td>1</td>\n",
       "    </tr>\n",
       "  </tbody>\n",
       "</table>\n",
       "</div>"
      ],
      "text/plain": [
       "   PassengerId  Survived  Pclass  \\\n",
       "0            1         0       3   \n",
       "1            2         1       1   \n",
       "2            3         1       3   \n",
       "3            4         1       1   \n",
       "4            5         0       3   \n",
       "\n",
       "                                                Name     Sex   Age  SibSp  \\\n",
       "0                            Braund, Mr. Owen Harris    male  22.0      1   \n",
       "1  Cumings, Mrs. John Bradley (Florence Briggs Th...  female  38.0      1   \n",
       "2                             Heikkinen, Miss. Laina  female  26.0      0   \n",
       "3       Futrelle, Mrs. Jacques Heath (Lily May Peel)  female  35.0      1   \n",
       "4                           Allen, Mr. William Henry    male  35.0      0   \n",
       "\n",
       "   Parch            Ticket     Fare Embarked  Sex_male  Embarked_Q  Embarked_S  \n",
       "0      0         A/5 21171   7.2500        S         1           0           1  \n",
       "1      0          PC 17599  71.2833        C         0           0           0  \n",
       "2      0  STON/O2. 3101282   7.9250        S         0           0           1  \n",
       "3      0            113803  53.1000        S         0           0           1  \n",
       "4      0            373450   8.0500        S         1           0           1  "
      ]
     },
     "execution_count": 26,
     "metadata": {},
     "output_type": "execute_result"
    }
   ],
   "source": [
    "train.head()"
   ]
  },
  {
   "cell_type": "code",
   "execution_count": 27,
   "id": "0bf4efd7",
   "metadata": {
    "execution": {
     "iopub.execute_input": "2022-07-18T18:15:19.808635Z",
     "iopub.status.busy": "2022-07-18T18:15:19.807910Z",
     "iopub.status.idle": "2022-07-18T18:15:19.814743Z",
     "shell.execute_reply": "2022-07-18T18:15:19.813869Z"
    },
    "papermill": {
     "duration": 0.025923,
     "end_time": "2022-07-18T18:15:19.817115",
     "exception": false,
     "start_time": "2022-07-18T18:15:19.791192",
     "status": "completed"
    },
    "tags": []
   },
   "outputs": [],
   "source": [
    "train = train.drop(['Sex','Embarked'], axis=1)"
   ]
  },
  {
   "cell_type": "code",
   "execution_count": 28,
   "id": "38acca65",
   "metadata": {
    "execution": {
     "iopub.execute_input": "2022-07-18T18:15:19.849475Z",
     "iopub.status.busy": "2022-07-18T18:15:19.848773Z",
     "iopub.status.idle": "2022-07-18T18:15:19.864059Z",
     "shell.execute_reply": "2022-07-18T18:15:19.863242Z"
    },
    "papermill": {
     "duration": 0.034143,
     "end_time": "2022-07-18T18:15:19.866339",
     "exception": false,
     "start_time": "2022-07-18T18:15:19.832196",
     "status": "completed"
    },
    "tags": []
   },
   "outputs": [
    {
     "data": {
      "text/html": [
       "<div>\n",
       "<style scoped>\n",
       "    .dataframe tbody tr th:only-of-type {\n",
       "        vertical-align: middle;\n",
       "    }\n",
       "\n",
       "    .dataframe tbody tr th {\n",
       "        vertical-align: top;\n",
       "    }\n",
       "\n",
       "    .dataframe thead th {\n",
       "        text-align: right;\n",
       "    }\n",
       "</style>\n",
       "<table border=\"1\" class=\"dataframe\">\n",
       "  <thead>\n",
       "    <tr style=\"text-align: right;\">\n",
       "      <th></th>\n",
       "      <th>PassengerId</th>\n",
       "      <th>Survived</th>\n",
       "      <th>Pclass</th>\n",
       "      <th>Name</th>\n",
       "      <th>Age</th>\n",
       "      <th>SibSp</th>\n",
       "      <th>Parch</th>\n",
       "      <th>Ticket</th>\n",
       "      <th>Fare</th>\n",
       "      <th>Sex_male</th>\n",
       "      <th>Embarked_Q</th>\n",
       "      <th>Embarked_S</th>\n",
       "    </tr>\n",
       "  </thead>\n",
       "  <tbody>\n",
       "    <tr>\n",
       "      <th>0</th>\n",
       "      <td>1</td>\n",
       "      <td>0</td>\n",
       "      <td>3</td>\n",
       "      <td>Braund, Mr. Owen Harris</td>\n",
       "      <td>22.0</td>\n",
       "      <td>1</td>\n",
       "      <td>0</td>\n",
       "      <td>A/5 21171</td>\n",
       "      <td>7.2500</td>\n",
       "      <td>1</td>\n",
       "      <td>0</td>\n",
       "      <td>1</td>\n",
       "    </tr>\n",
       "    <tr>\n",
       "      <th>1</th>\n",
       "      <td>2</td>\n",
       "      <td>1</td>\n",
       "      <td>1</td>\n",
       "      <td>Cumings, Mrs. John Bradley (Florence Briggs Th...</td>\n",
       "      <td>38.0</td>\n",
       "      <td>1</td>\n",
       "      <td>0</td>\n",
       "      <td>PC 17599</td>\n",
       "      <td>71.2833</td>\n",
       "      <td>0</td>\n",
       "      <td>0</td>\n",
       "      <td>0</td>\n",
       "    </tr>\n",
       "    <tr>\n",
       "      <th>2</th>\n",
       "      <td>3</td>\n",
       "      <td>1</td>\n",
       "      <td>3</td>\n",
       "      <td>Heikkinen, Miss. Laina</td>\n",
       "      <td>26.0</td>\n",
       "      <td>0</td>\n",
       "      <td>0</td>\n",
       "      <td>STON/O2. 3101282</td>\n",
       "      <td>7.9250</td>\n",
       "      <td>0</td>\n",
       "      <td>0</td>\n",
       "      <td>1</td>\n",
       "    </tr>\n",
       "    <tr>\n",
       "      <th>3</th>\n",
       "      <td>4</td>\n",
       "      <td>1</td>\n",
       "      <td>1</td>\n",
       "      <td>Futrelle, Mrs. Jacques Heath (Lily May Peel)</td>\n",
       "      <td>35.0</td>\n",
       "      <td>1</td>\n",
       "      <td>0</td>\n",
       "      <td>113803</td>\n",
       "      <td>53.1000</td>\n",
       "      <td>0</td>\n",
       "      <td>0</td>\n",
       "      <td>1</td>\n",
       "    </tr>\n",
       "    <tr>\n",
       "      <th>4</th>\n",
       "      <td>5</td>\n",
       "      <td>0</td>\n",
       "      <td>3</td>\n",
       "      <td>Allen, Mr. William Henry</td>\n",
       "      <td>35.0</td>\n",
       "      <td>0</td>\n",
       "      <td>0</td>\n",
       "      <td>373450</td>\n",
       "      <td>8.0500</td>\n",
       "      <td>1</td>\n",
       "      <td>0</td>\n",
       "      <td>1</td>\n",
       "    </tr>\n",
       "  </tbody>\n",
       "</table>\n",
       "</div>"
      ],
      "text/plain": [
       "   PassengerId  Survived  Pclass  \\\n",
       "0            1         0       3   \n",
       "1            2         1       1   \n",
       "2            3         1       3   \n",
       "3            4         1       1   \n",
       "4            5         0       3   \n",
       "\n",
       "                                                Name   Age  SibSp  Parch  \\\n",
       "0                            Braund, Mr. Owen Harris  22.0      1      0   \n",
       "1  Cumings, Mrs. John Bradley (Florence Briggs Th...  38.0      1      0   \n",
       "2                             Heikkinen, Miss. Laina  26.0      0      0   \n",
       "3       Futrelle, Mrs. Jacques Heath (Lily May Peel)  35.0      1      0   \n",
       "4                           Allen, Mr. William Henry  35.0      0      0   \n",
       "\n",
       "             Ticket     Fare  Sex_male  Embarked_Q  Embarked_S  \n",
       "0         A/5 21171   7.2500         1           0           1  \n",
       "1          PC 17599  71.2833         0           0           0  \n",
       "2  STON/O2. 3101282   7.9250         0           0           1  \n",
       "3            113803  53.1000         0           0           1  \n",
       "4            373450   8.0500         1           0           1  "
      ]
     },
     "execution_count": 28,
     "metadata": {},
     "output_type": "execute_result"
    }
   ],
   "source": [
    "train.head()"
   ]
  },
  {
   "cell_type": "code",
   "execution_count": 29,
   "id": "0a66ba76",
   "metadata": {
    "execution": {
     "iopub.execute_input": "2022-07-18T18:15:19.900086Z",
     "iopub.status.busy": "2022-07-18T18:15:19.899232Z",
     "iopub.status.idle": "2022-07-18T18:15:19.905224Z",
     "shell.execute_reply": "2022-07-18T18:15:19.904382Z"
    },
    "papermill": {
     "duration": 0.025615,
     "end_time": "2022-07-18T18:15:19.907712",
     "exception": false,
     "start_time": "2022-07-18T18:15:19.882097",
     "status": "completed"
    },
    "tags": []
   },
   "outputs": [],
   "source": [
    "train = train.drop(['Name', 'Ticket'],axis=1)"
   ]
  },
  {
   "cell_type": "code",
   "execution_count": 30,
   "id": "a9239524",
   "metadata": {
    "execution": {
     "iopub.execute_input": "2022-07-18T18:15:19.940970Z",
     "iopub.status.busy": "2022-07-18T18:15:19.940519Z",
     "iopub.status.idle": "2022-07-18T18:15:19.955702Z",
     "shell.execute_reply": "2022-07-18T18:15:19.954550Z"
    },
    "papermill": {
     "duration": 0.034513,
     "end_time": "2022-07-18T18:15:19.957851",
     "exception": false,
     "start_time": "2022-07-18T18:15:19.923338",
     "status": "completed"
    },
    "tags": []
   },
   "outputs": [
    {
     "data": {
      "text/html": [
       "<div>\n",
       "<style scoped>\n",
       "    .dataframe tbody tr th:only-of-type {\n",
       "        vertical-align: middle;\n",
       "    }\n",
       "\n",
       "    .dataframe tbody tr th {\n",
       "        vertical-align: top;\n",
       "    }\n",
       "\n",
       "    .dataframe thead th {\n",
       "        text-align: right;\n",
       "    }\n",
       "</style>\n",
       "<table border=\"1\" class=\"dataframe\">\n",
       "  <thead>\n",
       "    <tr style=\"text-align: right;\">\n",
       "      <th></th>\n",
       "      <th>PassengerId</th>\n",
       "      <th>Survived</th>\n",
       "      <th>Pclass</th>\n",
       "      <th>Age</th>\n",
       "      <th>SibSp</th>\n",
       "      <th>Parch</th>\n",
       "      <th>Fare</th>\n",
       "      <th>Sex_male</th>\n",
       "      <th>Embarked_Q</th>\n",
       "      <th>Embarked_S</th>\n",
       "    </tr>\n",
       "  </thead>\n",
       "  <tbody>\n",
       "    <tr>\n",
       "      <th>0</th>\n",
       "      <td>1</td>\n",
       "      <td>0</td>\n",
       "      <td>3</td>\n",
       "      <td>22.0</td>\n",
       "      <td>1</td>\n",
       "      <td>0</td>\n",
       "      <td>7.2500</td>\n",
       "      <td>1</td>\n",
       "      <td>0</td>\n",
       "      <td>1</td>\n",
       "    </tr>\n",
       "    <tr>\n",
       "      <th>1</th>\n",
       "      <td>2</td>\n",
       "      <td>1</td>\n",
       "      <td>1</td>\n",
       "      <td>38.0</td>\n",
       "      <td>1</td>\n",
       "      <td>0</td>\n",
       "      <td>71.2833</td>\n",
       "      <td>0</td>\n",
       "      <td>0</td>\n",
       "      <td>0</td>\n",
       "    </tr>\n",
       "    <tr>\n",
       "      <th>2</th>\n",
       "      <td>3</td>\n",
       "      <td>1</td>\n",
       "      <td>3</td>\n",
       "      <td>26.0</td>\n",
       "      <td>0</td>\n",
       "      <td>0</td>\n",
       "      <td>7.9250</td>\n",
       "      <td>0</td>\n",
       "      <td>0</td>\n",
       "      <td>1</td>\n",
       "    </tr>\n",
       "    <tr>\n",
       "      <th>3</th>\n",
       "      <td>4</td>\n",
       "      <td>1</td>\n",
       "      <td>1</td>\n",
       "      <td>35.0</td>\n",
       "      <td>1</td>\n",
       "      <td>0</td>\n",
       "      <td>53.1000</td>\n",
       "      <td>0</td>\n",
       "      <td>0</td>\n",
       "      <td>1</td>\n",
       "    </tr>\n",
       "    <tr>\n",
       "      <th>4</th>\n",
       "      <td>5</td>\n",
       "      <td>0</td>\n",
       "      <td>3</td>\n",
       "      <td>35.0</td>\n",
       "      <td>0</td>\n",
       "      <td>0</td>\n",
       "      <td>8.0500</td>\n",
       "      <td>1</td>\n",
       "      <td>0</td>\n",
       "      <td>1</td>\n",
       "    </tr>\n",
       "  </tbody>\n",
       "</table>\n",
       "</div>"
      ],
      "text/plain": [
       "   PassengerId  Survived  Pclass   Age  SibSp  Parch     Fare  Sex_male  \\\n",
       "0            1         0       3  22.0      1      0   7.2500         1   \n",
       "1            2         1       1  38.0      1      0  71.2833         0   \n",
       "2            3         1       3  26.0      0      0   7.9250         0   \n",
       "3            4         1       1  35.0      1      0  53.1000         0   \n",
       "4            5         0       3  35.0      0      0   8.0500         1   \n",
       "\n",
       "   Embarked_Q  Embarked_S  \n",
       "0           0           1  \n",
       "1           0           0  \n",
       "2           0           1  \n",
       "3           0           1  \n",
       "4           0           1  "
      ]
     },
     "execution_count": 30,
     "metadata": {},
     "output_type": "execute_result"
    }
   ],
   "source": [
    "train.head()"
   ]
  },
  {
   "cell_type": "code",
   "execution_count": 31,
   "id": "9e7f16d4",
   "metadata": {
    "execution": {
     "iopub.execute_input": "2022-07-18T18:15:19.992277Z",
     "iopub.status.busy": "2022-07-18T18:15:19.991178Z",
     "iopub.status.idle": "2022-07-18T18:15:20.198554Z",
     "shell.execute_reply": "2022-07-18T18:15:20.197316Z"
    },
    "papermill": {
     "duration": 0.227091,
     "end_time": "2022-07-18T18:15:20.201385",
     "exception": false,
     "start_time": "2022-07-18T18:15:19.974294",
     "status": "completed"
    },
    "tags": []
   },
   "outputs": [],
   "source": [
    "from sklearn.model_selection import train_test_split"
   ]
  },
  {
   "cell_type": "code",
   "execution_count": 32,
   "id": "83b35430",
   "metadata": {
    "execution": {
     "iopub.execute_input": "2022-07-18T18:15:20.236933Z",
     "iopub.status.busy": "2022-07-18T18:15:20.235944Z",
     "iopub.status.idle": "2022-07-18T18:15:20.242334Z",
     "shell.execute_reply": "2022-07-18T18:15:20.240958Z"
    },
    "papermill": {
     "duration": 0.026562,
     "end_time": "2022-07-18T18:15:20.244957",
     "exception": false,
     "start_time": "2022-07-18T18:15:20.218395",
     "status": "completed"
    },
    "tags": []
   },
   "outputs": [],
   "source": [
    "X = train.drop('Survived', axis=1)\n",
    "y = train['Survived']"
   ]
  },
  {
   "cell_type": "code",
   "execution_count": 33,
   "id": "5955cc22",
   "metadata": {
    "execution": {
     "iopub.execute_input": "2022-07-18T18:15:20.278373Z",
     "iopub.status.busy": "2022-07-18T18:15:20.277945Z",
     "iopub.status.idle": "2022-07-18T18:15:20.286145Z",
     "shell.execute_reply": "2022-07-18T18:15:20.285052Z"
    },
    "papermill": {
     "duration": 0.027901,
     "end_time": "2022-07-18T18:15:20.288766",
     "exception": false,
     "start_time": "2022-07-18T18:15:20.260865",
     "status": "completed"
    },
    "tags": []
   },
   "outputs": [],
   "source": [
    "X_train, X_test, y_train, y_test = train_test_split(X, y, test_size=0.3, random_state=101)"
   ]
  },
  {
   "cell_type": "code",
   "execution_count": 34,
   "id": "821cf112",
   "metadata": {
    "execution": {
     "iopub.execute_input": "2022-07-18T18:15:20.322101Z",
     "iopub.status.busy": "2022-07-18T18:15:20.321230Z",
     "iopub.status.idle": "2022-07-18T18:15:20.399846Z",
     "shell.execute_reply": "2022-07-18T18:15:20.398693Z"
    },
    "papermill": {
     "duration": 0.098275,
     "end_time": "2022-07-18T18:15:20.402818",
     "exception": false,
     "start_time": "2022-07-18T18:15:20.304543",
     "status": "completed"
    },
    "tags": []
   },
   "outputs": [],
   "source": [
    "from sklearn.linear_model import LogisticRegression"
   ]
  },
  {
   "cell_type": "code",
   "execution_count": 35,
   "id": "8113d1fd",
   "metadata": {
    "execution": {
     "iopub.execute_input": "2022-07-18T18:15:20.436462Z",
     "iopub.status.busy": "2022-07-18T18:15:20.435803Z",
     "iopub.status.idle": "2022-07-18T18:15:20.441233Z",
     "shell.execute_reply": "2022-07-18T18:15:20.440352Z"
    },
    "papermill": {
     "duration": 0.02478,
     "end_time": "2022-07-18T18:15:20.443710",
     "exception": false,
     "start_time": "2022-07-18T18:15:20.418930",
     "status": "completed"
    },
    "tags": []
   },
   "outputs": [],
   "source": [
    "lm = LogisticRegression()"
   ]
  },
  {
   "cell_type": "code",
   "execution_count": 36,
   "id": "0289fac1",
   "metadata": {
    "execution": {
     "iopub.execute_input": "2022-07-18T18:15:20.479276Z",
     "iopub.status.busy": "2022-07-18T18:15:20.478635Z",
     "iopub.status.idle": "2022-07-18T18:15:20.529130Z",
     "shell.execute_reply": "2022-07-18T18:15:20.527750Z"
    },
    "papermill": {
     "duration": 0.071469,
     "end_time": "2022-07-18T18:15:20.531797",
     "exception": false,
     "start_time": "2022-07-18T18:15:20.460328",
     "status": "completed"
    },
    "tags": []
   },
   "outputs": [
    {
     "name": "stderr",
     "output_type": "stream",
     "text": [
      "/opt/conda/lib/python3.7/site-packages/sklearn/linear_model/_logistic.py:818: ConvergenceWarning: lbfgs failed to converge (status=1):\n",
      "STOP: TOTAL NO. of ITERATIONS REACHED LIMIT.\n",
      "\n",
      "Increase the number of iterations (max_iter) or scale the data as shown in:\n",
      "    https://scikit-learn.org/stable/modules/preprocessing.html\n",
      "Please also refer to the documentation for alternative solver options:\n",
      "    https://scikit-learn.org/stable/modules/linear_model.html#logistic-regression\n",
      "  extra_warning_msg=_LOGISTIC_SOLVER_CONVERGENCE_MSG,\n"
     ]
    },
    {
     "data": {
      "text/plain": [
       "LogisticRegression()"
      ]
     },
     "execution_count": 36,
     "metadata": {},
     "output_type": "execute_result"
    }
   ],
   "source": [
    "lm.fit(X_train,y_train)"
   ]
  },
  {
   "cell_type": "code",
   "execution_count": 37,
   "id": "8d73b04d",
   "metadata": {
    "execution": {
     "iopub.execute_input": "2022-07-18T18:15:20.565067Z",
     "iopub.status.busy": "2022-07-18T18:15:20.564453Z",
     "iopub.status.idle": "2022-07-18T18:15:20.571964Z",
     "shell.execute_reply": "2022-07-18T18:15:20.570822Z"
    },
    "papermill": {
     "duration": 0.02692,
     "end_time": "2022-07-18T18:15:20.574370",
     "exception": false,
     "start_time": "2022-07-18T18:15:20.547450",
     "status": "completed"
    },
    "tags": []
   },
   "outputs": [],
   "source": [
    "predictions = lm.predict(X_test)"
   ]
  },
  {
   "cell_type": "code",
   "execution_count": 38,
   "id": "8238407a",
   "metadata": {
    "execution": {
     "iopub.execute_input": "2022-07-18T18:15:20.607532Z",
     "iopub.status.busy": "2022-07-18T18:15:20.606905Z",
     "iopub.status.idle": "2022-07-18T18:15:20.612233Z",
     "shell.execute_reply": "2022-07-18T18:15:20.611048Z"
    },
    "papermill": {
     "duration": 0.024969,
     "end_time": "2022-07-18T18:15:20.614869",
     "exception": false,
     "start_time": "2022-07-18T18:15:20.589900",
     "status": "completed"
    },
    "tags": []
   },
   "outputs": [],
   "source": [
    "from sklearn.metrics import classification_report"
   ]
  },
  {
   "cell_type": "code",
   "execution_count": 39,
   "id": "3c606f32",
   "metadata": {
    "execution": {
     "iopub.execute_input": "2022-07-18T18:15:20.648282Z",
     "iopub.status.busy": "2022-07-18T18:15:20.647915Z",
     "iopub.status.idle": "2022-07-18T18:15:20.661112Z",
     "shell.execute_reply": "2022-07-18T18:15:20.659592Z"
    },
    "papermill": {
     "duration": 0.032685,
     "end_time": "2022-07-18T18:15:20.663515",
     "exception": false,
     "start_time": "2022-07-18T18:15:20.630830",
     "status": "completed"
    },
    "tags": []
   },
   "outputs": [
    {
     "name": "stdout",
     "output_type": "stream",
     "text": [
      "              precision    recall  f1-score   support\n",
      "\n",
      "           0       0.76      0.87      0.81       154\n",
      "           1       0.78      0.63      0.70       114\n",
      "\n",
      "    accuracy                           0.77       268\n",
      "   macro avg       0.77      0.75      0.76       268\n",
      "weighted avg       0.77      0.77      0.76       268\n",
      "\n"
     ]
    }
   ],
   "source": [
    "print(classification_report(y_test,predictions))"
   ]
  },
  {
   "cell_type": "code",
   "execution_count": null,
   "id": "775de47d",
   "metadata": {
    "papermill": {
     "duration": 0.015356,
     "end_time": "2022-07-18T18:15:20.694566",
     "exception": false,
     "start_time": "2022-07-18T18:15:20.679210",
     "status": "completed"
    },
    "tags": []
   },
   "outputs": [],
   "source": []
  }
 ],
 "metadata": {
  "kernelspec": {
   "display_name": "Python 3",
   "language": "python",
   "name": "python3"
  },
  "language_info": {
   "codemirror_mode": {
    "name": "ipython",
    "version": 3
   },
   "file_extension": ".py",
   "mimetype": "text/x-python",
   "name": "python",
   "nbconvert_exporter": "python",
   "pygments_lexer": "ipython3",
   "version": "3.7.12"
  },
  "papermill": {
   "default_parameters": {},
   "duration": 16.296959,
   "end_time": "2022-07-18T18:15:21.532203",
   "environment_variables": {},
   "exception": null,
   "input_path": "__notebook__.ipynb",
   "output_path": "__notebook__.ipynb",
   "parameters": {},
   "start_time": "2022-07-18T18:15:05.235244",
   "version": "2.3.4"
  }
 },
 "nbformat": 4,
 "nbformat_minor": 5
}
